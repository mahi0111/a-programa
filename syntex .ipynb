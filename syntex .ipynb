{
 "cells": [
  {
   "cell_type": "code",
   "execution_count": 4,
   "id": "2fafa71e-00dd-43cf-8fa0-c2849f7f5bf7",
   "metadata": {},
   "outputs": [],
   "source": [
    "name= 'Amruta'"
   ]
  },
  {
   "cell_type": "code",
   "execution_count": 16,
   "id": "a963ee69-7786-466d-8976-8f0a9f30c191",
   "metadata": {
    "scrolled": true
   },
   "outputs": [
    {
     "data": {
      "text/plain": [
       "'Amruta'"
      ]
     },
     "execution_count": 16,
     "metadata": {},
     "output_type": "execute_result"
    }
   ],
   "source": [
    "name"
   ]
  },
  {
   "cell_type": "code",
   "execution_count": 24,
   "id": "820afb57-f100-4b5f-a2ce-d1374bf2e9f4",
   "metadata": {},
   "outputs": [],
   "source": [
    "NAME = 'Python'"
   ]
  },
  {
   "cell_type": "code",
   "execution_count": 26,
   "id": "7d343314-e63b-4780-ac76-f6738fd763a7",
   "metadata": {},
   "outputs": [
    {
     "data": {
      "text/plain": [
       "'Python'"
      ]
     },
     "execution_count": 26,
     "metadata": {},
     "output_type": "execute_result"
    }
   ],
   "source": [
    "NAME"
   ]
  },
  {
   "cell_type": "code",
   "execution_count": 28,
   "id": "220e909b-0600-41de-9821-876b976b5ab4",
   "metadata": {},
   "outputs": [
    {
     "data": {
      "text/plain": [
       "'Amruta'"
      ]
     },
     "execution_count": 28,
     "metadata": {},
     "output_type": "execute_result"
    }
   ],
   "source": [
    "name"
   ]
  },
  {
   "cell_type": "code",
   "execution_count": null,
   "id": "b6225de1-892e-4642-af05-25623b0fbd31",
   "metadata": {},
   "outputs": [],
   "source": [
    "Variable\n",
    "\n"
   ]
  },
  {
   "cell_type": "code",
   "execution_count": 30,
   "id": "00ea776d-6a59-4473-883d-9f1db62669d4",
   "metadata": {},
   "outputs": [],
   "source": [
    "x =7"
   ]
  },
  {
   "cell_type": "code",
   "execution_count": 33,
   "id": "7ed28d9b-2bb0-4e7f-a330-33b5f7081d98",
   "metadata": {},
   "outputs": [
    {
     "data": {
      "text/plain": [
       "7"
      ]
     },
     "execution_count": 33,
     "metadata": {},
     "output_type": "execute_result"
    }
   ],
   "source": [
    "x"
   ]
  },
  {
   "cell_type": "code",
   "execution_count": 35,
   "id": "18552fec-b02b-4dc7-8b7e-fb44a56b94d2",
   "metadata": {},
   "outputs": [
    {
     "ename": "SyntaxError",
     "evalue": "cannot assign to literal here. Maybe you meant '==' instead of '='? (3361288770.py, line 1)",
     "output_type": "error",
     "traceback": [
      "\u001b[1;36m  Cell \u001b[1;32mIn[35], line 1\u001b[1;36m\u001b[0m\n\u001b[1;33m    7 = mahi\u001b[0m\n\u001b[1;37m    ^\u001b[0m\n\u001b[1;31mSyntaxError\u001b[0m\u001b[1;31m:\u001b[0m cannot assign to literal here. Maybe you meant '==' instead of '='?\n"
     ]
    }
   ],
   "source": [
    "7 = mahi"
   ]
  },
  {
   "cell_type": "code",
   "execution_count": null,
   "id": "71aa794a-fde2-4312-a2ce-0c21d123af80",
   "metadata": {},
   "outputs": [],
   "source": []
  }
 ],
 "metadata": {
  "kernelspec": {
   "display_name": "Python 3 (ipykernel)",
   "language": "python",
   "name": "python3"
  },
  "language_info": {
   "codemirror_mode": {
    "name": "ipython",
    "version": 3
   },
   "file_extension": ".py",
   "mimetype": "text/x-python",
   "name": "python",
   "nbconvert_exporter": "python",
   "pygments_lexer": "ipython3",
   "version": "3.12.7"
  }
 },
 "nbformat": 4,
 "nbformat_minor": 5
}
