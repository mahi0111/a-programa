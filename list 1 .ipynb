{
 "cells": [
  {
   "cell_type": "markdown",
   "id": "bc8941d4-d9bb-4a35-9fb3-f54488e277c0",
   "metadata": {},
   "source": [
    "List\n",
    "\n",
    "List is written in  square bracket [ ]."
   ]
  },
  {
   "cell_type": "code",
   "execution_count": 1,
   "id": "d6f8e416-53ad-4d15-bb69-dc898f3d0b72",
   "metadata": {},
   "outputs": [],
   "source": [
    "numbers = [1,2,3,4,5]"
   ]
  },
  {
   "cell_type": "code",
   "execution_count": 3,
   "id": "95ae885c-774c-458b-98f2-2f276d8c0aed",
   "metadata": {},
   "outputs": [
    {
     "data": {
      "text/plain": [
       "[1, 2, 3, 4, 5]"
      ]
     },
     "execution_count": 3,
     "metadata": {},
     "output_type": "execute_result"
    }
   ],
   "source": [
    "numbers"
   ]
  },
  {
   "cell_type": "code",
   "execution_count": 5,
   "id": "f670cd89-d35d-4921-9d41-388ab06a473e",
   "metadata": {},
   "outputs": [
    {
     "data": {
      "text/plain": [
       "list"
      ]
     },
     "execution_count": 5,
     "metadata": {},
     "output_type": "execute_result"
    }
   ],
   "source": [
    "type(numbers)"
   ]
  },
  {
   "cell_type": "code",
   "execution_count": 7,
   "id": "50d3a073-62c1-4edb-8a13-4ca2d1b7131d",
   "metadata": {},
   "outputs": [],
   "source": [
    "names = ['om' , 'ram' , 'sham' , 'ramesh']"
   ]
  },
  {
   "cell_type": "code",
   "execution_count": 9,
   "id": "f3159028-759c-4c5a-9056-0dfd7a4796c7",
   "metadata": {},
   "outputs": [
    {
     "data": {
      "text/plain": [
       "['om', 'ram', 'sham', 'ramesh']"
      ]
     },
     "execution_count": 9,
     "metadata": {},
     "output_type": "execute_result"
    }
   ],
   "source": [
    "names"
   ]
  },
  {
   "cell_type": "code",
   "execution_count": 37,
   "id": "018c3446-b9ac-45a6-921c-ef7ae176fafc",
   "metadata": {},
   "outputs": [
    {
     "ename": "SyntaxError",
     "evalue": "invalid syntax (3558032741.py, line 1)",
     "output_type": "error",
     "traceback": [
      "\u001b[1;36m  Cell \u001b[1;32mIn[37], line 1\u001b[1;36m\u001b[0m\n\u001b[1;33m    mix data = [12.4,3.1,7.9,5,'om','ram']\u001b[0m\n\u001b[1;37m        ^\u001b[0m\n\u001b[1;31mSyntaxError\u001b[0m\u001b[1;31m:\u001b[0m invalid syntax\n"
     ]
    }
   ],
   "source": [
    "mix data = [12.4,3.1,7.9,5,'om','ram']"
   ]
  },
  {
   "cell_type": "code",
   "execution_count": null,
   "id": "2ef3a006-e9e5-412b-8056-b63800327509",
   "metadata": {},
   "outputs": [],
   "source": []
  },
  {
   "cell_type": "markdown",
   "id": "23f842d8-ae5a-44ab-8064-de9b2edcb1d2",
   "metadata": {},
   "source": [
    "#indexing"
   ]
  },
  {
   "cell_type": "code",
   "execution_count": 19,
   "id": "a6cae47b-5708-4698-9a3e-250c6da4bf8f",
   "metadata": {},
   "outputs": [
    {
     "data": {
      "text/plain": [
       "[1, 2, 3, 4, 5]"
      ]
     },
     "execution_count": 19,
     "metadata": {},
     "output_type": "execute_result"
    }
   ],
   "source": [
    "numbers"
   ]
  },
  {
   "cell_type": "code",
   "execution_count": 21,
   "id": "3149b09b-4fbc-43da-a911-a9f29c6b3a84",
   "metadata": {},
   "outputs": [
    {
     "data": {
      "text/plain": [
       "3"
      ]
     },
     "execution_count": 21,
     "metadata": {},
     "output_type": "execute_result"
    }
   ],
   "source": [
    "numbers[2]"
   ]
  },
  {
   "cell_type": "code",
   "execution_count": 23,
   "id": "9c149da0-bcde-4eb1-807d-8b7a6644317d",
   "metadata": {},
   "outputs": [
    {
     "data": {
      "text/plain": [
       "['om', 'ram', 'sham', 'ramesh']"
      ]
     },
     "execution_count": 23,
     "metadata": {},
     "output_type": "execute_result"
    }
   ],
   "source": [
    "names"
   ]
  },
  {
   "cell_type": "code",
   "execution_count": 25,
   "id": "2f5c205b-4a5d-46f1-b663-30a3643ca3aa",
   "metadata": {},
   "outputs": [
    {
     "data": {
      "text/plain": [
       "'ramesh'"
      ]
     },
     "execution_count": 25,
     "metadata": {},
     "output_type": "execute_result"
    }
   ],
   "source": [
    "names[3]"
   ]
  },
  {
   "cell_type": "code",
   "execution_count": 29,
   "id": "fe296a73-7985-4788-aef3-a326137f8cbe",
   "metadata": {},
   "outputs": [
    {
     "data": {
      "text/plain": [
       "'sham'"
      ]
     },
     "execution_count": 29,
     "metadata": {},
     "output_type": "execute_result"
    }
   ],
   "source": [
    "names[2]"
   ]
  },
  {
   "cell_type": "code",
   "execution_count": 31,
   "id": "194a879f-53da-4f73-8f94-cf0b38df99ab",
   "metadata": {},
   "outputs": [
    {
     "data": {
      "text/plain": [
       "'om'"
      ]
     },
     "execution_count": 31,
     "metadata": {},
     "output_type": "execute_result"
    }
   ],
   "source": [
    "names[0]"
   ]
  },
  {
   "cell_type": "code",
   "execution_count": 33,
   "id": "695e91d7-3ca8-48e7-864c-0825f3c3ef16",
   "metadata": {},
   "outputs": [
    {
     "ename": "SyntaxError",
     "evalue": "invalid syntax (1293425354.py, line 1)",
     "output_type": "error",
     "traceback": [
      "\u001b[1;36m  Cell \u001b[1;32mIn[33], line 1\u001b[1;36m\u001b[0m\n\u001b[1;33m    mix data\u001b[0m\n\u001b[1;37m        ^\u001b[0m\n\u001b[1;31mSyntaxError\u001b[0m\u001b[1;31m:\u001b[0m invalid syntax\n"
     ]
    }
   ],
   "source": [
    "mix data"
   ]
  },
  {
   "cell_type": "code",
   "execution_count": null,
   "id": "d59ef321-47dd-4fa0-b0c9-cd49b0d1b92a",
   "metadata": {},
   "outputs": [],
   "source": []
  }
 ],
 "metadata": {
  "kernelspec": {
   "display_name": "Python 3 (ipykernel)",
   "language": "python",
   "name": "python3"
  },
  "language_info": {
   "codemirror_mode": {
    "name": "ipython",
    "version": 3
   },
   "file_extension": ".py",
   "mimetype": "text/x-python",
   "name": "python",
   "nbconvert_exporter": "python",
   "pygments_lexer": "ipython3",
   "version": "3.12.7"
  }
 },
 "nbformat": 4,
 "nbformat_minor": 5
}
