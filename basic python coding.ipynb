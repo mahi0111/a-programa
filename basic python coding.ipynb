{
 "cells": [
  {
   "cell_type": "code",
   "execution_count": 1,
   "id": "d34a9488-9c00-4679-9521-17c7c2091327",
   "metadata": {},
   "outputs": [],
   "source": [
    "a= 11  "
   ]
  },
  {
   "cell_type": "code",
   "execution_count": 3,
   "id": "0c66da49-7363-46e0-89d7-33fb32b0e84d",
   "metadata": {},
   "outputs": [
    {
     "data": {
      "text/plain": [
       "'11'"
      ]
     },
     "execution_count": 3,
     "metadata": {},
     "output_type": "execute_result"
    }
   ],
   "source": [
    "str(a)"
   ]
  },
  {
   "cell_type": "markdown",
   "id": "8c5175c1-9970-4d98-8c81-87da39036719",
   "metadata": {},
   "source": [
    "# typecasting"
   ]
  },
  {
   "cell_type": "code",
   "execution_count": 5,
   "id": "5c1ee2f6-0114-4884-8f22-932620a8a94c",
   "metadata": {},
   "outputs": [
    {
     "data": {
      "text/plain": [
       "'400'"
      ]
     },
     "execution_count": 5,
     "metadata": {},
     "output_type": "execute_result"
    }
   ],
   "source": [
    "str(400)"
   ]
  },
  {
   "cell_type": "code",
   "execution_count": 21,
   "id": "a61b633f-c98e-414a-b314-e6f45af7e066",
   "metadata": {},
   "outputs": [],
   "source": [
    "   x= '100' # str to int\n",
    "  "
   ]
  },
  {
   "cell_type": "code",
   "execution_count": 23,
   "id": "38602677-a649-4413-b49e-54a2d6f267e1",
   "metadata": {},
   "outputs": [
    {
     "data": {
      "text/plain": [
       "100"
      ]
     },
     "execution_count": 23,
     "metadata": {},
     "output_type": "execute_result"
    }
   ],
   "source": [
    "int(x) "
   ]
  },
  {
   "cell_type": "code",
   "execution_count": 17,
   "id": "48bacfc0-565a-4ee5-8d75-729035e208a9",
   "metadata": {},
   "outputs": [
    {
     "data": {
      "text/plain": [
       "True"
      ]
     },
     "execution_count": 17,
     "metadata": {},
     "output_type": "execute_result"
    }
   ],
   "source": [
    "10 == 10    # comparison operator"
   ]
  },
  {
   "cell_type": "code",
   "execution_count": 19,
   "id": "e7849f4a-58c1-4877-bc49-8af03b75f013",
   "metadata": {},
   "outputs": [],
   "source": [
    "x = 10   # variable"
   ]
  },
  {
   "cell_type": "code",
   "execution_count": 25,
   "id": "fcf771c7-319d-4bd5-9d12-646c299664f9",
   "metadata": {},
   "outputs": [
    {
     "data": {
      "text/plain": [
       "0"
      ]
     },
     "execution_count": 25,
     "metadata": {},
     "output_type": "execute_result"
    }
   ],
   "source": [
    "10 % 2"
   ]
  },
  {
   "cell_type": "code",
   "execution_count": 27,
   "id": "acb628b6-9185-4b09-9ac7-aa3751e636de",
   "metadata": {},
   "outputs": [
    {
     "data": {
      "text/plain": [
       "1"
      ]
     },
     "execution_count": 27,
     "metadata": {},
     "output_type": "execute_result"
    }
   ],
   "source": [
    "10 % 3"
   ]
  },
  {
   "cell_type": "markdown",
   "id": "8dd008a8-c5f9-45a9-a607-7987ca65b823",
   "metadata": {},
   "source": [
    "what is typecasting , and why it is important in python ?"
   ]
  },
  {
   "cell_type": "code",
   "execution_count": 29,
   "id": "4aa01c22-85d9-4294-ab17-78dd3cf55d85",
   "metadata": {},
   "outputs": [
    {
     "data": {
      "text/plain": [
       "10"
      ]
     },
     "execution_count": 29,
     "metadata": {},
     "output_type": "execute_result"
    }
   ],
   "source": [
    "int('10')"
   ]
  },
  {
   "cell_type": "code",
   "execution_count": 31,
   "id": "c1b66f84-2fc2-4c59-9c3b-0918c3f7da60",
   "metadata": {},
   "outputs": [
    {
     "data": {
      "text/plain": [
       "'heyheyhey'"
      ]
     },
     "execution_count": 31,
     "metadata": {},
     "output_type": "execute_result"
    }
   ],
   "source": [
    "3 * \"hey\""
   ]
  },
  {
   "cell_type": "code",
   "execution_count": 33,
   "id": "e23fe1c5-5340-433d-887b-10dafb6cb40b",
   "metadata": {},
   "outputs": [],
   "source": [
    "a = 'data'\n",
    "b = 'analysis'"
   ]
  },
  {
   "cell_type": "code",
   "execution_count": 35,
   "id": "5c51c740-8f38-4999-bfbd-895c2ca8989a",
   "metadata": {},
   "outputs": [
    {
     "name": "stdout",
     "output_type": "stream",
     "text": [
      "dataanalysis\n"
     ]
    }
   ],
   "source": [
    "print(a + b)"
   ]
  },
  {
   "cell_type": "code",
   "execution_count": null,
   "id": "282220e9-580b-445d-9cae-b81b1eb4f03d",
   "metadata": {},
   "outputs": [],
   "source": []
  }
 ],
 "metadata": {
  "kernelspec": {
   "display_name": "Python 3 (ipykernel)",
   "language": "python",
   "name": "python3"
  },
  "language_info": {
   "codemirror_mode": {
    "name": "ipython",
    "version": 3
   },
   "file_extension": ".py",
   "mimetype": "text/x-python",
   "name": "python",
   "nbconvert_exporter": "python",
   "pygments_lexer": "ipython3",
   "version": "3.12.7"
  }
 },
 "nbformat": 4,
 "nbformat_minor": 5
}
