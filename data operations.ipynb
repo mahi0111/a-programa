{
 "cells": [
  {
   "cell_type": "code",
   "execution_count": 1,
   "id": "49a72d6f-9a4a-4d47-afe4-976c75186f62",
   "metadata": {},
   "outputs": [],
   "source": [
    "name = ' mahi'"
   ]
  },
  {
   "cell_type": "code",
   "execution_count": null,
   "id": "8188914f-7e46-4d29-947a-7ee1dedd5579",
   "metadata": {},
   "outputs": [],
   "source": [
    "sentence = \" Today we are going to learn python .\""
   ]
  },
  {
   "cell_type": "code",
   "execution_count": 3,
   "id": "e911934f-59fe-4e15-ab74-13a60b0a55ca",
   "metadata": {},
   "outputs": [
    {
     "ename": "SyntaxError",
     "evalue": "unterminated string literal (detected at line 1) (3936228572.py, line 1)",
     "output_type": "error",
     "traceback": [
      "\u001b[1;36m  Cell \u001b[1;32mIn[3], line 1\u001b[1;36m\u001b[0m\n\u001b[1;33m    sentence2 = \" This is my line no.1.\u001b[0m\n\u001b[1;37m                ^\u001b[0m\n\u001b[1;31mSyntaxError\u001b[0m\u001b[1;31m:\u001b[0m unterminated string literal (detected at line 1)\n"
     ]
    }
   ],
   "source": [
    "sentence2 = \" This is my line no.1.\n",
    "               This is my line no.2.\n",
    "               This is my line no.3 \""
   ]
  },
  {
   "cell_type": "markdown",
   "id": "398bab3c-69ec-4c39-8faa-edb520cab1fd",
   "metadata": {},
   "source": [
    "# How wiil you write down single sentence .\n",
    "# How will you write down multiple sentence."
   ]
  },
  {
   "cell_type": "markdown",
   "id": "1d90fa15-b257-4309-902f-18224dd7bfb1",
   "metadata": {},
   "source": [
    "Operations "
   ]
  },
  {
   "cell_type": "code",
   "execution_count": 5,
   "id": "f802b525-ad03-4839-a64b-2659dbc63edd",
   "metadata": {},
   "outputs": [
    {
     "data": {
      "text/plain": [
       "15"
      ]
     },
     "execution_count": 5,
     "metadata": {},
     "output_type": "execute_result"
    }
   ],
   "source": [
    "10 + 5 # adding int + int"
   ]
  },
  {
   "cell_type": "code",
   "execution_count": 9,
   "id": "49d35ff8-e1f9-4855-9872-4c747ecab159",
   "metadata": {},
   "outputs": [
    {
     "data": {
      "text/plain": [
       "int"
      ]
     },
     "execution_count": 9,
     "metadata": {},
     "output_type": "execute_result"
    }
   ],
   "source": [
    "type (10)"
   ]
  },
  {
   "cell_type": "code",
   "execution_count": 11,
   "id": "b7f863f9-74e6-4bef-aa4d-87dcdbaccd9b",
   "metadata": {},
   "outputs": [
    {
     "data": {
      "text/plain": [
       "11.1"
      ]
     },
     "execution_count": 11,
     "metadata": {},
     "output_type": "execute_result"
    }
   ],
   "source": [
    "10 + 1.1"
   ]
  },
  {
   "cell_type": "code",
   "execution_count": 13,
   "id": "b83f0af8-2d44-4a80-b27a-50f14a9622a2",
   "metadata": {},
   "outputs": [
    {
     "ename": "NameError",
     "evalue": "name 'mahi' is not defined",
     "output_type": "error",
     "traceback": [
      "\u001b[1;31m---------------------------------------------------------------------------\u001b[0m",
      "\u001b[1;31mNameError\u001b[0m                                 Traceback (most recent call last)",
      "Cell \u001b[1;32mIn[13], line 1\u001b[0m\n\u001b[1;32m----> 1\u001b[0m \u001b[38;5;241m5\u001b[39m \u001b[38;5;241m+\u001b[39m mahi\n",
      "\u001b[1;31mNameError\u001b[0m: name 'mahi' is not defined"
     ]
    }
   ],
   "source": [
    "5 + mahi"
   ]
  },
  {
   "cell_type": "markdown",
   "id": "5aaee493-beb2-4c89-9750-29696ee37da0",
   "metadata": {},
   "source": [
    "# can we addition operation between str + str"
   ]
  },
  {
   "cell_type": "code",
   "execution_count": 15,
   "id": "5c3e90d7-6a08-46ca-99cc-3277ed1d812b",
   "metadata": {},
   "outputs": [
    {
     "data": {
      "text/plain": [
       "' hello  python '"
      ]
     },
     "execution_count": 15,
     "metadata": {},
     "output_type": "execute_result"
    }
   ],
   "source": [
    "\" hello \" + \" python \""
   ]
  },
  {
   "cell_type": "code",
   "execution_count": 17,
   "id": "62514348-0e90-4516-9859-d97e2e509166",
   "metadata": {},
   "outputs": [
    {
     "data": {
      "text/plain": [
       "2"
      ]
     },
     "execution_count": 17,
     "metadata": {},
     "output_type": "execute_result"
    }
   ],
   "source": [
    "True + True   #boolean + boolean"
   ]
  },
  {
   "cell_type": "code",
   "execution_count": 19,
   "id": "ab380c76-1c90-4844-b3cb-0ae3bc5213c2",
   "metadata": {},
   "outputs": [
    {
     "data": {
      "text/plain": [
       "1"
      ]
     },
     "execution_count": 19,
     "metadata": {},
     "output_type": "execute_result"
    }
   ],
   "source": [
    "True + False"
   ]
  },
  {
   "cell_type": "code",
   "execution_count": 21,
   "id": "363a1fe3-6518-4615-abc3-a420de382cf5",
   "metadata": {},
   "outputs": [
    {
     "data": {
      "text/plain": [
       "0"
      ]
     },
     "execution_count": 21,
     "metadata": {},
     "output_type": "execute_result"
    }
   ],
   "source": [
    "False + False "
   ]
  },
  {
   "cell_type": "code",
   "execution_count": 31,
   "id": "499cb7df-535a-4d7a-bd6f-a1ff70b6f394",
   "metadata": {},
   "outputs": [
    {
     "ename": "SyntaxError",
     "evalue": "unterminated string literal (detected at line 3) (599919254.py, line 3)",
     "output_type": "error",
     "traceback": [
      "\u001b[1;36m  Cell \u001b[1;32mIn[31], line 3\u001b[1;36m\u001b[0m\n\u001b[1;33m    '\u001b[0m\n\u001b[1;37m    ^\u001b[0m\n\u001b[1;31mSyntaxError\u001b[0m\u001b[1;31m:\u001b[0m unterminated string literal (detected at line 3)\n"
     ]
    }
   ],
   "source": [
    "first name ='amruta'\n",
    "last name = 'sirast'\n",
    "'"
   ]
  },
  {
   "cell_type": "code",
   "execution_count": null,
   "id": "8aeaee23-b76a-4c4d-bfd7-1be2856a1e78",
   "metadata": {},
   "outputs": [],
   "source": [
    "a = 5 "
   ]
  },
  {
   "cell_type": "code",
   "execution_count": null,
   "id": "dd7f4315-2a18-43e1-9a4e-b28819c2bb4a",
   "metadata": {},
   "outputs": [],
   "source": [
    "b = 10"
   ]
  },
  {
   "cell_type": "code",
   "execution_count": 33,
   "id": "22ab12ef-0742-43c7-b22e-34f07a1b2562",
   "metadata": {},
   "outputs": [
    {
     "ename": "NameError",
     "evalue": "name 'a' is not defined",
     "output_type": "error",
     "traceback": [
      "\u001b[1;31m---------------------------------------------------------------------------\u001b[0m",
      "\u001b[1;31mNameError\u001b[0m                                 Traceback (most recent call last)",
      "Cell \u001b[1;32mIn[33], line 1\u001b[0m\n\u001b[1;32m----> 1\u001b[0m c \u001b[38;5;241m=\u001b[39m a \u001b[38;5;241m+\u001b[39m b\n",
      "\u001b[1;31mNameError\u001b[0m: name 'a' is not defined"
     ]
    }
   ],
   "source": [
    "c = a + b"
   ]
  },
  {
   "cell_type": "code",
   "execution_count": null,
   "id": "abb767a6-4885-41d3-8dd4-a3b24874e694",
   "metadata": {},
   "outputs": [],
   "source": []
  }
 ],
 "metadata": {
  "kernelspec": {
   "display_name": "Python 3 (ipykernel)",
   "language": "python",
   "name": "python3"
  },
  "language_info": {
   "codemirror_mode": {
    "name": "ipython",
    "version": 3
   },
   "file_extension": ".py",
   "mimetype": "text/x-python",
   "name": "python",
   "nbconvert_exporter": "python",
   "pygments_lexer": "ipython3",
   "version": "3.12.7"
  }
 },
 "nbformat": 4,
 "nbformat_minor": 5
}
