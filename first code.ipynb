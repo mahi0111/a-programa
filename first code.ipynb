{
 "cells": [
  {
   "cell_type": "code",
   "execution_count": null,
   "id": "594626cd-2e4f-4176-b4ca-3587a9cc0e4f",
   "metadata": {},
   "outputs": [],
   "source": [
    "First Code \n",
    "\n",
    "Today we are going to learn python"
   ]
  },
  {
   "cell_type": "code",
   "execution_count": 1,
   "id": "b2c6ce74-a81d-48bd-9f0b-e762ebe20064",
   "metadata": {},
   "outputs": [
    {
     "data": {
      "text/plain": [
       "15"
      ]
     },
     "execution_count": 1,
     "metadata": {},
     "output_type": "execute_result"
    }
   ],
   "source": [
    "10 + 5"
   ]
  },
  {
   "cell_type": "code",
   "execution_count": 3,
   "id": "520bcd4c-d4d9-4c83-93c9-de0bab9c92ca",
   "metadata": {},
   "outputs": [
    {
     "data": {
      "text/plain": [
       "15"
      ]
     },
     "execution_count": 3,
     "metadata": {},
     "output_type": "execute_result"
    }
   ],
   "source": [
    "5 * 3"
   ]
  },
  {
   "cell_type": "markdown",
   "id": "93023772-fb10-4653-8b4d-501f88be79d9",
   "metadata": {},
   "source": [
    "Shift + enter to run cell"
   ]
  },
  {
   "cell_type": "code",
   "execution_count": 5,
   "id": "1760c86b-376f-4d04-b7f3-2983908f505e",
   "metadata": {},
   "outputs": [
    {
     "data": {
      "text/plain": [
       "2.0"
      ]
     },
     "execution_count": 5,
     "metadata": {},
     "output_type": "execute_result"
    }
   ],
   "source": [
    "10 / 5"
   ]
  },
  {
   "cell_type": "code",
   "execution_count": null,
   "id": "12fcda80-a1c0-4b57-b8a7-8781f9c28c6c",
   "metadata": {},
   "outputs": [],
   "source": []
  }
 ],
 "metadata": {
  "kernelspec": {
   "display_name": "Python 3 (ipykernel)",
   "language": "python",
   "name": "python3"
  },
  "language_info": {
   "codemirror_mode": {
    "name": "ipython",
    "version": 3
   },
   "file_extension": ".py",
   "mimetype": "text/x-python",
   "name": "python",
   "nbconvert_exporter": "python",
   "pygments_lexer": "ipython3",
   "version": "3.12.7"
  }
 },
 "nbformat": 4,
 "nbformat_minor": 5
}
