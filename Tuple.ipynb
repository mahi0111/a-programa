{
 "cells": [
  {
   "cell_type": "code",
   "execution_count": 1,
   "id": "d948ce52-3abf-48d2-93c5-cdf251005eaf",
   "metadata": {},
   "outputs": [],
   "source": [
    "names = ['om','sham','ramesh','suresh']"
   ]
  },
  {
   "cell_type": "code",
   "execution_count": 3,
   "id": "19c1a0bc-2336-481f-a006-bcf01fe573d4",
   "metadata": {},
   "outputs": [],
   "source": [
    "l = [1,2,3,4,5]"
   ]
  },
  {
   "cell_type": "code",
   "execution_count": 5,
   "id": "bf43bdc5-61a3-4a03-a421-833497ad8016",
   "metadata": {},
   "outputs": [
    {
     "data": {
      "text/plain": [
       "['om', 'sham', 'ramesh', 'suresh']"
      ]
     },
     "execution_count": 5,
     "metadata": {},
     "output_type": "execute_result"
    }
   ],
   "source": [
    "names"
   ]
  },
  {
   "cell_type": "code",
   "execution_count": 7,
   "id": "168eccba-7913-4362-8fa6-866850e355b9",
   "metadata": {},
   "outputs": [
    {
     "data": {
      "text/plain": [
       "[1, 2, 3, 4, 5]"
      ]
     },
     "execution_count": 7,
     "metadata": {},
     "output_type": "execute_result"
    }
   ],
   "source": [
    "l"
   ]
  },
  {
   "cell_type": "code",
   "execution_count": 10,
   "id": "cc4f7d0c-89c9-4d85-ba5f-07f6b9f7cdf6",
   "metadata": {},
   "outputs": [
    {
     "data": {
      "text/plain": [
       "1"
      ]
     },
     "execution_count": 10,
     "metadata": {},
     "output_type": "execute_result"
    }
   ],
   "source": [
    "l.count(2)"
   ]
  },
  {
   "cell_type": "code",
   "execution_count": 12,
   "id": "7b877cde-106a-4726-a30b-805141423cc2",
   "metadata": {},
   "outputs": [],
   "source": [
    "l = [1,2,3,4,1,1,1,2,3,3,5]"
   ]
  },
  {
   "cell_type": "code",
   "execution_count": 15,
   "id": "94c2450d-ded1-4e32-afee-c6fafbb5e2c1",
   "metadata": {},
   "outputs": [
    {
     "data": {
      "text/plain": [
       "4"
      ]
     },
     "execution_count": 15,
     "metadata": {},
     "output_type": "execute_result"
    }
   ],
   "source": [
    "l.count(1)"
   ]
  },
  {
   "cell_type": "code",
   "execution_count": 17,
   "id": "e667ab78-8e2e-4eb4-8c61-ca44417e1b82",
   "metadata": {},
   "outputs": [
    {
     "data": {
      "text/plain": [
       "2"
      ]
     },
     "execution_count": 17,
     "metadata": {},
     "output_type": "execute_result"
    }
   ],
   "source": [
    "l.count(2)"
   ]
  },
  {
   "cell_type": "code",
   "execution_count": 19,
   "id": "23905b95-8d3d-45d8-8adf-c4fded52823e",
   "metadata": {},
   "outputs": [
    {
     "data": {
      "text/plain": [
       "3"
      ]
     },
     "execution_count": 19,
     "metadata": {},
     "output_type": "execute_result"
    }
   ],
   "source": [
    "l.count(3)"
   ]
  },
  {
   "cell_type": "code",
   "execution_count": 41,
   "id": "b3e7c8b5-5b84-4e25-b4f4-93d2856aa9b4",
   "metadata": {},
   "outputs": [
    {
     "data": {
      "text/plain": [
       "1"
      ]
     },
     "execution_count": 41,
     "metadata": {},
     "output_type": "execute_result"
    }
   ],
   "source": [
    "l.count(5)"
   ]
  },
  {
   "cell_type": "code",
   "execution_count": 32,
   "id": "0ec7142a-5618-479a-946d-101d2b4ae5b0",
   "metadata": {},
   "outputs": [],
   "source": [
    "l.sort( )"
   ]
  },
  {
   "cell_type": "code",
   "execution_count": 34,
   "id": "0def9c90-abf2-4b0d-a23a-f53de4dcecbc",
   "metadata": {},
   "outputs": [
    {
     "data": {
      "text/plain": [
       "[1, 1, 1, 1, 2, 2, 3, 3, 3, 4, 5]"
      ]
     },
     "execution_count": 34,
     "metadata": {},
     "output_type": "execute_result"
    }
   ],
   "source": [
    "l"
   ]
  },
  {
   "cell_type": "code",
   "execution_count": 43,
   "id": "39204af7-de1e-4c35-92c8-1467f6351d14",
   "metadata": {},
   "outputs": [],
   "source": [
    "l.remove(1)"
   ]
  },
  {
   "cell_type": "code",
   "execution_count": 45,
   "id": "f97b6907-bd3f-4e8f-818c-6a528a8112ac",
   "metadata": {},
   "outputs": [
    {
     "data": {
      "text/plain": [
       "[1, 1, 1, 2, 2, 3, 3, 3, 4, 5]"
      ]
     },
     "execution_count": 45,
     "metadata": {},
     "output_type": "execute_result"
    }
   ],
   "source": [
    "l"
   ]
  },
  {
   "cell_type": "code",
   "execution_count": 47,
   "id": "dd8ff37d-9721-4f53-ae0a-26e883027548",
   "metadata": {},
   "outputs": [
    {
     "data": {
      "text/plain": [
       "5"
      ]
     },
     "execution_count": 47,
     "metadata": {},
     "output_type": "execute_result"
    }
   ],
   "source": [
    "l.pop()       # pop is going to remove last number."
   ]
  },
  {
   "cell_type": "code",
   "execution_count": 49,
   "id": "b1907b12-fc58-48b3-bea0-e85e5d47062b",
   "metadata": {},
   "outputs": [
    {
     "data": {
      "text/plain": [
       "[1, 1, 1, 2, 2, 3, 3, 3, 4]"
      ]
     },
     "execution_count": 49,
     "metadata": {},
     "output_type": "execute_result"
    }
   ],
   "source": [
    "l"
   ]
  },
  {
   "cell_type": "code",
   "execution_count": 51,
   "id": "f2f6ce42-336a-49d7-8940-501779b902df",
   "metadata": {},
   "outputs": [
    {
     "data": {
      "text/plain": [
       "8"
      ]
     },
     "execution_count": 51,
     "metadata": {},
     "output_type": "execute_result"
    }
   ],
   "source": [
    "l.index(4)"
   ]
  },
  {
   "cell_type": "code",
   "execution_count": 53,
   "id": "381254b2-f349-4186-8596-3cf436b207e2",
   "metadata": {},
   "outputs": [
    {
     "data": {
      "text/plain": [
       "0"
      ]
     },
     "execution_count": 53,
     "metadata": {},
     "output_type": "execute_result"
    }
   ],
   "source": [
    "l.index(1)    # for duplicate values"
   ]
  },
  {
   "cell_type": "code",
   "execution_count": 55,
   "id": "0b9ff8c9-8979-4077-b1a8-58168dbf55c4",
   "metadata": {},
   "outputs": [
    {
     "data": {
      "text/plain": [
       "3"
      ]
     },
     "execution_count": 55,
     "metadata": {},
     "output_type": "execute_result"
    }
   ],
   "source": [
    "l.index(2)"
   ]
  },
  {
   "cell_type": "code",
   "execution_count": 58,
   "id": "19498c6e-fd51-4dcc-b34c-c306af0e8f6c",
   "metadata": {},
   "outputs": [
    {
     "data": {
      "text/plain": [
       "['om', 'sham', 'ramesh', 'suresh']"
      ]
     },
     "execution_count": 58,
     "metadata": {},
     "output_type": "execute_result"
    }
   ],
   "source": [
    "names"
   ]
  },
  {
   "cell_type": "code",
   "execution_count": 60,
   "id": "a611278f-6bef-423f-9352-c388d1b76841",
   "metadata": {},
   "outputs": [],
   "source": [
    "names.insert(1,'Rock')"
   ]
  },
  {
   "cell_type": "code",
   "execution_count": 66,
   "id": "f22dc346-ca4f-4e35-bc06-03801c627947",
   "metadata": {},
   "outputs": [
    {
     "data": {
      "text/plain": [
       "['om', 'Rock', 'sham', 'ramesh', 'suresh']"
      ]
     },
     "execution_count": 66,
     "metadata": {},
     "output_type": "execute_result"
    }
   ],
   "source": [
    "names"
   ]
  },
  {
   "cell_type": "code",
   "execution_count": 70,
   "id": "3572ff6d-b51d-4dbf-8a8f-2fc6468698e5",
   "metadata": {},
   "outputs": [
    {
     "data": {
      "text/plain": [
       "[1, 1, 1, 2, 2, 3, 3, 3, 4]"
      ]
     },
     "execution_count": 70,
     "metadata": {},
     "output_type": "execute_result"
    }
   ],
   "source": [
    "l"
   ]
  },
  {
   "cell_type": "code",
   "execution_count": 74,
   "id": "7b979af7-1576-41b5-bca7-74efaebc91cf",
   "metadata": {},
   "outputs": [],
   "source": [
    "l.insert(1,'Rock')"
   ]
  },
  {
   "cell_type": "code",
   "execution_count": 76,
   "id": "7ecbaae7-95be-4af0-a271-4938ccfeffc8",
   "metadata": {},
   "outputs": [
    {
     "data": {
      "text/plain": [
       "[1, 'Rock', 1, 1, 2, 2, 3, 3, 3, 4]"
      ]
     },
     "execution_count": 76,
     "metadata": {},
     "output_type": "execute_result"
    }
   ],
   "source": [
    "l"
   ]
  },
  {
   "cell_type": "code",
   "execution_count": 78,
   "id": "ec55fd23-d1a6-4408-bfcc-f78bbdb3e9d0",
   "metadata": {},
   "outputs": [],
   "source": [
    "l.insert(0,'Mahi')"
   ]
  },
  {
   "cell_type": "code",
   "execution_count": 80,
   "id": "eb28b8e9-9195-4506-a9d9-add4cbfbfd52",
   "metadata": {},
   "outputs": [
    {
     "data": {
      "text/plain": [
       "['Mahi', 1, 'Rock', 1, 1, 2, 2, 3, 3, 3, 4]"
      ]
     },
     "execution_count": 80,
     "metadata": {},
     "output_type": "execute_result"
    }
   ],
   "source": [
    "l"
   ]
  },
  {
   "cell_type": "code",
   "execution_count": 82,
   "id": "77e69f1a-6aac-48f7-b903-82eb3671fb5a",
   "metadata": {},
   "outputs": [
    {
     "data": {
      "text/plain": [
       "[4, 3, 3, 3, 2, 2, 1, 1, 'Rock', 1, 'Mahi']"
      ]
     },
     "execution_count": 82,
     "metadata": {},
     "output_type": "execute_result"
    }
   ],
   "source": [
    "l[::-1]"
   ]
  },
  {
   "cell_type": "code",
   "execution_count": 85,
   "id": "1aaac6b0-e67e-466c-b6a3-0196a722f799",
   "metadata": {},
   "outputs": [
    {
     "data": {
      "text/plain": [
       "['Mahi', 1, 'Rock', 1, 1, 2, 2, 3, 3, 3, 4]"
      ]
     },
     "execution_count": 85,
     "metadata": {},
     "output_type": "execute_result"
    }
   ],
   "source": [
    "l"
   ]
  },
  {
   "cell_type": "code",
   "execution_count": 87,
   "id": "86629f9b-90ad-40d6-8fbe-c941feb60993",
   "metadata": {},
   "outputs": [],
   "source": [
    "l.reverse()"
   ]
  },
  {
   "cell_type": "code",
   "execution_count": 89,
   "id": "dd0b0143-1df3-4881-8d3a-9d2374773496",
   "metadata": {},
   "outputs": [
    {
     "data": {
      "text/plain": [
       "[4, 3, 3, 3, 2, 2, 1, 1, 'Rock', 1, 'Mahi']"
      ]
     },
     "execution_count": 89,
     "metadata": {},
     "output_type": "execute_result"
    }
   ],
   "source": [
    "l"
   ]
  },
  {
   "cell_type": "markdown",
   "id": "27cd8303-86a6-4dab-a9bd-e4064b4bae2e",
   "metadata": {},
   "source": [
    "# Copy"
   ]
  },
  {
   "cell_type": "code",
   "execution_count": 92,
   "id": "ffc8a55b-5435-4d59-97d7-3dbab46dbfa0",
   "metadata": {},
   "outputs": [
    {
     "data": {
      "text/plain": [
       "['om', 'Rock', 'sham', 'ramesh', 'suresh']"
      ]
     },
     "execution_count": 92,
     "metadata": {},
     "output_type": "execute_result"
    }
   ],
   "source": [
    "names"
   ]
  },
  {
   "cell_type": "code",
   "execution_count": 100,
   "id": "16032fbb-a063-42ea-a34e-a4644829b878",
   "metadata": {},
   "outputs": [],
   "source": [
    "names_copy = names"
   ]
  },
  {
   "cell_type": "code",
   "execution_count": 103,
   "id": "ed024742-d557-4e78-a343-b61d402b012e",
   "metadata": {},
   "outputs": [
    {
     "data": {
      "text/plain": [
       "['om', 'Rock', 'sham', 'ramesh', 'suresh']"
      ]
     },
     "execution_count": 103,
     "metadata": {},
     "output_type": "execute_result"
    }
   ],
   "source": [
    "names_copy"
   ]
  },
  {
   "cell_type": "code",
   "execution_count": 106,
   "id": "ac6f20be-1603-4188-86da-6e81d157e21e",
   "metadata": {},
   "outputs": [],
   "source": [
    "names.remove('Rock')"
   ]
  },
  {
   "cell_type": "code",
   "execution_count": 108,
   "id": "b24bb51e-d22d-40b8-a54d-f7223dc69fce",
   "metadata": {},
   "outputs": [
    {
     "data": {
      "text/plain": [
       "['om', 'sham', 'ramesh', 'suresh']"
      ]
     },
     "execution_count": 108,
     "metadata": {},
     "output_type": "execute_result"
    }
   ],
   "source": [
    "names"
   ]
  },
  {
   "cell_type": "code",
   "execution_count": 110,
   "id": "17c6b9a5-4f0e-45e6-8ca3-7c0e742b86a7",
   "metadata": {},
   "outputs": [
    {
     "data": {
      "text/plain": [
       "[4, 3, 3, 3, 2, 2, 1, 1, 'Rock', 1, 'Mahi']"
      ]
     },
     "execution_count": 110,
     "metadata": {},
     "output_type": "execute_result"
    }
   ],
   "source": [
    "l"
   ]
  },
  {
   "cell_type": "code",
   "execution_count": 112,
   "id": "1534008d-6098-4d1a-801f-99cfa6c18b3f",
   "metadata": {},
   "outputs": [],
   "source": [
    "l_copy= l.copy()   # Deep copy"
   ]
  },
  {
   "cell_type": "code",
   "execution_count": 114,
   "id": "6ff846d0-bb16-43a5-a487-69d36a93efa2",
   "metadata": {},
   "outputs": [
    {
     "data": {
      "text/plain": [
       "[4, 3, 3, 3, 2, 2, 1, 1, 'Rock', 1, 'Mahi']"
      ]
     },
     "execution_count": 114,
     "metadata": {},
     "output_type": "execute_result"
    }
   ],
   "source": [
    "l_copy"
   ]
  },
  {
   "cell_type": "code",
   "execution_count": 117,
   "id": "def1ffb0-1147-4957-ac1a-15ec3a08ade0",
   "metadata": {},
   "outputs": [],
   "source": [
    "l.remove('Mahi')"
   ]
  },
  {
   "cell_type": "code",
   "execution_count": 119,
   "id": "2e64b2d8-3c77-4b12-9183-5bdf6e8191f1",
   "metadata": {},
   "outputs": [
    {
     "data": {
      "text/plain": [
       "[4, 3, 3, 3, 2, 2, 1, 1, 'Rock', 1]"
      ]
     },
     "execution_count": 119,
     "metadata": {},
     "output_type": "execute_result"
    }
   ],
   "source": [
    "l"
   ]
  },
  {
   "cell_type": "code",
   "execution_count": 121,
   "id": "675e5978-4ee2-4500-887c-b74d7a14015f",
   "metadata": {},
   "outputs": [
    {
     "data": {
      "text/plain": [
       "[4, 3, 3, 3, 2, 2, 1, 1, 'Rock', 1, 'Mahi']"
      ]
     },
     "execution_count": 121,
     "metadata": {},
     "output_type": "execute_result"
    }
   ],
   "source": [
    "l_copy"
   ]
  },
  {
   "cell_type": "markdown",
   "id": "4652c480-8037-44fe-ac53-f45de961f788",
   "metadata": {},
   "source": [
    "Tuple \n",
    "\n",
    "Tuple is written in round paranthesis(). Tuple is immutable/unchangeable."
   ]
  },
  {
   "cell_type": "code",
   "execution_count": 123,
   "id": "2b230fb5-c2bf-4370-b407-eb55d4190793",
   "metadata": {},
   "outputs": [],
   "source": [
    "t = (1,2,3,4)"
   ]
  },
  {
   "cell_type": "code",
   "execution_count": 125,
   "id": "30cac045-620e-4767-b485-3d3b7f1ddd90",
   "metadata": {},
   "outputs": [
    {
     "data": {
      "text/plain": [
       "(1, 2, 3, 4)"
      ]
     },
     "execution_count": 125,
     "metadata": {},
     "output_type": "execute_result"
    }
   ],
   "source": [
    "t"
   ]
  },
  {
   "cell_type": "markdown",
   "id": "a7dec4c0-a877-467d-9619-43d78edde67a",
   "metadata": {},
   "source": [
    "# how to access dataset from tuple to list."
   ]
  },
  {
   "cell_type": "code",
   "execution_count": 128,
   "id": "354547b4-c34e-4705-8602-684551801d9d",
   "metadata": {},
   "outputs": [
    {
     "data": {
      "text/plain": [
       "1"
      ]
     },
     "execution_count": 128,
     "metadata": {},
     "output_type": "execute_result"
    }
   ],
   "source": [
    "t[0]"
   ]
  },
  {
   "cell_type": "code",
   "execution_count": 130,
   "id": "971732b2-b6a9-4c8c-ad48-247336094fe0",
   "metadata": {},
   "outputs": [
    {
     "data": {
      "text/plain": [
       "2"
      ]
     },
     "execution_count": 130,
     "metadata": {},
     "output_type": "execute_result"
    }
   ],
   "source": [
    "t[1]"
   ]
  },
  {
   "cell_type": "code",
   "execution_count": 132,
   "id": "d189e794-bc6d-4d7b-8fce-1399fb225e4d",
   "metadata": {},
   "outputs": [
    {
     "data": {
      "text/plain": [
       "4"
      ]
     },
     "execution_count": 132,
     "metadata": {},
     "output_type": "execute_result"
    }
   ],
   "source": [
    "t[3]"
   ]
  },
  {
   "cell_type": "code",
   "execution_count": 134,
   "id": "c63a31b5-a7d7-479a-8ee4-fa67ec00a59f",
   "metadata": {},
   "outputs": [
    {
     "ename": "TypeError",
     "evalue": "'tuple' object does not support item assignment",
     "output_type": "error",
     "traceback": [
      "\u001b[1;31m---------------------------------------------------------------------------\u001b[0m",
      "\u001b[1;31mTypeError\u001b[0m                                 Traceback (most recent call last)",
      "Cell \u001b[1;32mIn[134], line 1\u001b[0m\n\u001b[1;32m----> 1\u001b[0m t[\u001b[38;5;241m1\u001b[39m] \u001b[38;5;241m=\u001b[39m \u001b[38;5;241m100\u001b[39m\n",
      "\u001b[1;31mTypeError\u001b[0m: 'tuple' object does not support item assignment"
     ]
    }
   ],
   "source": [
    "t[1] = 100"
   ]
  },
  {
   "cell_type": "code",
   "execution_count": 136,
   "id": "6dfd4be6-cc9c-4b3e-939d-d2a36a98a150",
   "metadata": {},
   "outputs": [
    {
     "data": {
      "text/plain": [
       "1"
      ]
     },
     "execution_count": 136,
     "metadata": {},
     "output_type": "execute_result"
    }
   ],
   "source": [
    "t.count(1)"
   ]
  },
  {
   "cell_type": "code",
   "execution_count": 139,
   "id": "6b2ffe75-c907-4f30-a800-cd31b3365688",
   "metadata": {},
   "outputs": [
    {
     "data": {
      "text/plain": [
       "3"
      ]
     },
     "execution_count": 139,
     "metadata": {},
     "output_type": "execute_result"
    }
   ],
   "source": [
    "t.index(4)"
   ]
  },
  {
   "cell_type": "code",
   "execution_count": 141,
   "id": "a5e68469-cf97-4ae8-a6df-b30f0828ca9e",
   "metadata": {},
   "outputs": [],
   "source": [
    "d =('Hello','Python',10)"
   ]
  },
  {
   "cell_type": "code",
   "execution_count": 143,
   "id": "7b851a04-4af8-4432-82fb-de0e28a5b8ed",
   "metadata": {},
   "outputs": [
    {
     "data": {
      "text/plain": [
       "('Hello', 'Python', 10)"
      ]
     },
     "execution_count": 143,
     "metadata": {},
     "output_type": "execute_result"
    }
   ],
   "source": [
    "d"
   ]
  },
  {
   "cell_type": "markdown",
   "id": "dce21787-0716-412e-ad75-b14c445446f3",
   "metadata": {},
   "source": [
    "# how to change one data structure to otherdata structure."
   ]
  },
  {
   "cell_type": "markdown",
   "id": "0c5f5acb-5426-4e42-bc8e-93fcc6e06590",
   "metadata": {},
   "source": [
    "d"
   ]
  },
  {
   "cell_type": "code",
   "execution_count": 147,
   "id": "c1dd3d6a-02a1-47f0-87c0-d0d0ebb0911d",
   "metadata": {},
   "outputs": [
    {
     "data": {
      "text/plain": [
       "tuple"
      ]
     },
     "execution_count": 147,
     "metadata": {},
     "output_type": "execute_result"
    }
   ],
   "source": [
    "type(d)"
   ]
  },
  {
   "cell_type": "markdown",
   "id": "556d0697-59b0-482a-9dc6-4614a8397c6e",
   "metadata": {},
   "source": [
    "# convert list to tuple"
   ]
  },
  {
   "cell_type": "code",
   "execution_count": 149,
   "id": "bcf057c3-90b5-4983-bd69-21ca38f11759",
   "metadata": {},
   "outputs": [
    {
     "data": {
      "text/plain": [
       "('om', 'sham', 'ramesh', 'suresh')"
      ]
     },
     "execution_count": 149,
     "metadata": {},
     "output_type": "execute_result"
    }
   ],
   "source": [
    "tuple(names)"
   ]
  },
  {
   "cell_type": "code",
   "execution_count": 151,
   "id": "b8eb45c1-346f-489e-9674-f71036382d49",
   "metadata": {},
   "outputs": [
    {
     "data": {
      "text/plain": [
       "('Hello', 'Python', 10)"
      ]
     },
     "execution_count": 151,
     "metadata": {},
     "output_type": "execute_result"
    }
   ],
   "source": [
    "d"
   ]
  },
  {
   "cell_type": "code",
   "execution_count": 153,
   "id": "5f8d7d43-446a-4349-899b-c5809b62176c",
   "metadata": {},
   "outputs": [
    {
     "data": {
      "text/plain": [
       "('Hello', 'Python', 10, 'Hello', 'Python', 10, 'Hello', 'Python', 10)"
      ]
     },
     "execution_count": 153,
     "metadata": {},
     "output_type": "execute_result"
    }
   ],
   "source": [
    "d * 3"
   ]
  },
  {
   "cell_type": "markdown",
   "id": "d47e5190-5d1c-4768-ad53-ef84f678dccb",
   "metadata": {},
   "source": [
    "# nested tuple"
   ]
  },
  {
   "cell_type": "code",
   "execution_count": 155,
   "id": "293d1624-bb84-4d5d-9685-3d30f219b4d8",
   "metadata": {},
   "outputs": [],
   "source": [
    "k = (10,202,30,(100,200,300),40,50)"
   ]
  },
  {
   "cell_type": "code",
   "execution_count": 158,
   "id": "7869a040-337f-4bda-bb8d-be03cc19ca96",
   "metadata": {},
   "outputs": [
    {
     "data": {
      "text/plain": [
       "(10, 202, 30, (100, 200, 300), 40, 50)"
      ]
     },
     "execution_count": 158,
     "metadata": {},
     "output_type": "execute_result"
    }
   ],
   "source": [
    "k"
   ]
  },
  {
   "cell_type": "code",
   "execution_count": 160,
   "id": "a96a3125-6c7f-4a41-aef2-8bc46a790942",
   "metadata": {},
   "outputs": [
    {
     "data": {
      "text/plain": [
       "(100, 200, 300)"
      ]
     },
     "execution_count": 160,
     "metadata": {},
     "output_type": "execute_result"
    }
   ],
   "source": [
    "k[3]"
   ]
  },
  {
   "cell_type": "code",
   "execution_count": 163,
   "id": "b8ca0e40-cf22-438e-be67-6d7cc8466f68",
   "metadata": {},
   "outputs": [
    {
     "data": {
      "text/plain": [
       "300"
      ]
     },
     "execution_count": 163,
     "metadata": {},
     "output_type": "execute_result"
    }
   ],
   "source": [
    "k[3][2]"
   ]
  },
  {
   "cell_type": "code",
   "execution_count": 166,
   "id": "fb881b23-fcba-4047-ac9c-cd81f5725767",
   "metadata": {},
   "outputs": [
    {
     "data": {
      "text/plain": [
       "(10, 202, 30, (100, 200, 300), 40, 50)"
      ]
     },
     "execution_count": 166,
     "metadata": {},
     "output_type": "execute_result"
    }
   ],
   "source": [
    "k"
   ]
  },
  {
   "cell_type": "code",
   "execution_count": 168,
   "id": "2ab6dfef-baab-4ed2-a5ca-9356c42e2ed1",
   "metadata": {},
   "outputs": [
    {
     "data": {
      "text/plain": [
       "tuple"
      ]
     },
     "execution_count": 168,
     "metadata": {},
     "output_type": "execute_result"
    }
   ],
   "source": [
    "type(k)"
   ]
  },
  {
   "cell_type": "code",
   "execution_count": 170,
   "id": "a9579bad-28ab-417e-8854-cadaf08a4256",
   "metadata": {},
   "outputs": [
    {
     "data": {
      "text/plain": [
       "[10, 202, 30, (100, 200, 300), 40, 50]"
      ]
     },
     "execution_count": 170,
     "metadata": {},
     "output_type": "execute_result"
    }
   ],
   "source": [
    "list(k)"
   ]
  },
  {
   "cell_type": "code",
   "execution_count": null,
   "id": "6de5f491-14ca-4e37-a354-4273cc32ffa9",
   "metadata": {},
   "outputs": [],
   "source": []
  }
 ],
 "metadata": {
  "kernelspec": {
   "display_name": "Python 3 (ipykernel)",
   "language": "python",
   "name": "python3"
  },
  "language_info": {
   "codemirror_mode": {
    "name": "ipython",
    "version": 3
   },
   "file_extension": ".py",
   "mimetype": "text/x-python",
   "name": "python",
   "nbconvert_exporter": "python",
   "pygments_lexer": "ipython3",
   "version": "3.12.7"
  }
 },
 "nbformat": 4,
 "nbformat_minor": 5
}
