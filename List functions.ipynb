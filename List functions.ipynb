{
 "cells": [
  {
   "cell_type": "code",
   "execution_count": 15,
   "id": "9c54cb22-463b-4c4c-b490-c1ce3341f6e4",
   "metadata": {},
   "outputs": [],
   "source": [
    "l = [1,2,3,4,5]"
   ]
  },
  {
   "cell_type": "code",
   "execution_count": 19,
   "id": "742bda85-60d8-4962-968f-d767aef509fa",
   "metadata": {},
   "outputs": [],
   "source": [
    "l[1] = 200     # change 2 to 200"
   ]
  },
  {
   "cell_type": "code",
   "execution_count": 21,
   "id": "9cb7f503-45cf-47ba-b98c-010d536b4d98",
   "metadata": {},
   "outputs": [
    {
     "data": {
      "text/plain": [
       "200"
      ]
     },
     "execution_count": 21,
     "metadata": {},
     "output_type": "execute_result"
    }
   ],
   "source": [
    "l[1]"
   ]
  },
  {
   "cell_type": "code",
   "execution_count": 23,
   "id": "ff79ad9b-dc9e-46c2-8f0f-248ead1d5d1c",
   "metadata": {},
   "outputs": [
    {
     "data": {
      "text/plain": [
       "[1, 200, 3, 4, 5]"
      ]
     },
     "execution_count": 23,
     "metadata": {},
     "output_type": "execute_result"
    }
   ],
   "source": [
    "l"
   ]
  },
  {
   "cell_type": "code",
   "execution_count": 25,
   "id": "322c2497-cc59-4cea-bb5d-c15c0d2f2b20",
   "metadata": {},
   "outputs": [],
   "source": [
    "names =['om','sham','ram','ganesh']"
   ]
  },
  {
   "cell_type": "code",
   "execution_count": 27,
   "id": "38ae6241-2d11-483a-9887-e73ee42057cd",
   "metadata": {},
   "outputs": [
    {
     "data": {
      "text/plain": [
       "'ram'"
      ]
     },
     "execution_count": 27,
     "metadata": {},
     "output_type": "execute_result"
    }
   ],
   "source": [
    "names[2]"
   ]
  },
  {
   "cell_type": "code",
   "execution_count": 29,
   "id": "df36e35b-7e21-4c32-9900-30bc61381788",
   "metadata": {},
   "outputs": [],
   "source": [
    "names[2] = 'suresh'"
   ]
  },
  {
   "cell_type": "code",
   "execution_count": 31,
   "id": "40aa2313-7b6d-4b29-917f-82d7fe474611",
   "metadata": {},
   "outputs": [
    {
     "data": {
      "text/plain": [
       "['om', 'sham', 'suresh', 'ganesh']"
      ]
     },
     "execution_count": 31,
     "metadata": {},
     "output_type": "execute_result"
    }
   ],
   "source": [
    "names"
   ]
  },
  {
   "cell_type": "markdown",
   "id": "7cae753a-b33e-401c-bf47-e07f653eb9e4",
   "metadata": {},
   "source": [
    "# Nested list  = list inside the list"
   ]
  },
  {
   "cell_type": "code",
   "execution_count": 33,
   "id": "6cfa16c6-25e1-4b7e-ae4c-e188289c1cb0",
   "metadata": {},
   "outputs": [],
   "source": [
    "d =[1,2,3,4,[10,20,30,40],5,6]"
   ]
  },
  {
   "cell_type": "code",
   "execution_count": 36,
   "id": "15f09682-1655-40ac-814e-2ffa3361f89f",
   "metadata": {},
   "outputs": [
    {
     "data": {
      "text/plain": [
       "1"
      ]
     },
     "execution_count": 36,
     "metadata": {},
     "output_type": "execute_result"
    }
   ],
   "source": [
    "d[0]"
   ]
  },
  {
   "cell_type": "code",
   "execution_count": 38,
   "id": "237cebb4-5755-403b-96d1-b51d9ebb5b72",
   "metadata": {},
   "outputs": [
    {
     "data": {
      "text/plain": [
       "[10, 20, 30, 40]"
      ]
     },
     "execution_count": 38,
     "metadata": {},
     "output_type": "execute_result"
    }
   ],
   "source": [
    "d[4]"
   ]
  },
  {
   "cell_type": "code",
   "execution_count": 40,
   "id": "3273b0fc-5403-4784-aeb2-c5d1296b704a",
   "metadata": {},
   "outputs": [
    {
     "data": {
      "text/plain": [
       "20"
      ]
     },
     "execution_count": 40,
     "metadata": {},
     "output_type": "execute_result"
    }
   ],
   "source": [
    "d[4][1]"
   ]
  },
  {
   "cell_type": "code",
   "execution_count": 42,
   "id": "b2de5aa5-af1b-4ee0-a59a-229a6eef53fe",
   "metadata": {},
   "outputs": [],
   "source": [
    "d2 =[10,20,30,[1.5,2.5,[100,200,300],3.5],40]"
   ]
  },
  {
   "cell_type": "code",
   "execution_count": 44,
   "id": "360af1a3-6c48-4ce7-8769-092db8ea7916",
   "metadata": {},
   "outputs": [
    {
     "data": {
      "text/plain": [
       "10"
      ]
     },
     "execution_count": 44,
     "metadata": {},
     "output_type": "execute_result"
    }
   ],
   "source": [
    "d2[0]"
   ]
  },
  {
   "cell_type": "code",
   "execution_count": 46,
   "id": "45e8a16d-b50c-4788-952a-8f73d5631226",
   "metadata": {},
   "outputs": [
    {
     "data": {
      "text/plain": [
       "20"
      ]
     },
     "execution_count": 46,
     "metadata": {},
     "output_type": "execute_result"
    }
   ],
   "source": [
    "d2[1]"
   ]
  },
  {
   "cell_type": "code",
   "execution_count": 48,
   "id": "66d3c698-a283-4d69-8198-ba0eaf8614de",
   "metadata": {},
   "outputs": [
    {
     "data": {
      "text/plain": [
       "30"
      ]
     },
     "execution_count": 48,
     "metadata": {},
     "output_type": "execute_result"
    }
   ],
   "source": [
    "d2[2]"
   ]
  },
  {
   "cell_type": "code",
   "execution_count": 76,
   "id": "8cc61bd9-0016-4344-846a-ac5d939d10cb",
   "metadata": {},
   "outputs": [
    {
     "data": {
      "text/plain": [
       "[1.5, 2.5, [100, 200, 300], 3.5]"
      ]
     },
     "execution_count": 76,
     "metadata": {},
     "output_type": "execute_result"
    }
   ],
   "source": [
    "d2[3]"
   ]
  },
  {
   "cell_type": "code",
   "execution_count": 52,
   "id": "9bbabd82-ab2e-4792-ba41-a3a6527fe19f",
   "metadata": {},
   "outputs": [
    {
     "data": {
      "text/plain": [
       "[100, 200, 300]"
      ]
     },
     "execution_count": 52,
     "metadata": {},
     "output_type": "execute_result"
    }
   ],
   "source": [
    "d2[3][2]"
   ]
  },
  {
   "cell_type": "code",
   "execution_count": 54,
   "id": "a9cd9049-17a1-4cb2-8854-b70fad58c6a8",
   "metadata": {},
   "outputs": [
    {
     "data": {
      "text/plain": [
       "200"
      ]
     },
     "execution_count": 54,
     "metadata": {},
     "output_type": "execute_result"
    }
   ],
   "source": [
    "d2[3][2][1]"
   ]
  },
  {
   "cell_type": "code",
   "execution_count": 78,
   "id": "f21dbf5b-cf5f-4b16-b23a-51c06687386c",
   "metadata": {},
   "outputs": [],
   "source": [
    "C = ['a','b','c',['A','B','C'],'d']"
   ]
  },
  {
   "cell_type": "code",
   "execution_count": 86,
   "id": "d6ef70ea-f703-4991-b57f-3903185fbca8",
   "metadata": {},
   "outputs": [
    {
     "data": {
      "text/plain": [
       "['A', 'B', 'C']"
      ]
     },
     "execution_count": 86,
     "metadata": {},
     "output_type": "execute_result"
    }
   ],
   "source": [
    "C[3]"
   ]
  },
  {
   "cell_type": "code",
   "execution_count": 88,
   "id": "83277bb7-85d0-4f19-b6d4-670007b9e185",
   "metadata": {},
   "outputs": [
    {
     "data": {
      "text/plain": [
       "'C'"
      ]
     },
     "execution_count": 88,
     "metadata": {},
     "output_type": "execute_result"
    }
   ],
   "source": [
    "C[3][2]"
   ]
  },
  {
   "cell_type": "code",
   "execution_count": 90,
   "id": "17f1c860-8508-4dc2-a9a0-a6a7887f2ea8",
   "metadata": {},
   "outputs": [],
   "source": [
    "c2 = ['A','B','C',['a',['AA','BB','CC'],'b','c'],'D']"
   ]
  },
  {
   "cell_type": "code",
   "execution_count": 94,
   "id": "d15c1433-df5f-4876-b52e-686db1eecf7f",
   "metadata": {},
   "outputs": [
    {
     "data": {
      "text/plain": [
       "'C'"
      ]
     },
     "execution_count": 94,
     "metadata": {},
     "output_type": "execute_result"
    }
   ],
   "source": [
    "c2[2]"
   ]
  },
  {
   "cell_type": "code",
   "execution_count": 101,
   "id": "70a4c20d-dbc6-487e-9e90-fe61f33d966a",
   "metadata": {},
   "outputs": [
    {
     "data": {
      "text/plain": [
       "'C'"
      ]
     },
     "execution_count": 101,
     "metadata": {},
     "output_type": "execute_result"
    }
   ],
   "source": [
    "c2[2][0]"
   ]
  },
  {
   "cell_type": "code",
   "execution_count": 103,
   "id": "3685ab5d-a1fe-412a-b3d7-fca7ae84899e",
   "metadata": {},
   "outputs": [
    {
     "data": {
      "text/plain": [
       "['a', ['AA', 'BB', 'CC'], 'b', 'c']"
      ]
     },
     "execution_count": 103,
     "metadata": {},
     "output_type": "execute_result"
    }
   ],
   "source": [
    "c2[3]"
   ]
  },
  {
   "cell_type": "code",
   "execution_count": 105,
   "id": "c45d0cc1-6396-40a0-984a-9d4ebdf5323a",
   "metadata": {},
   "outputs": [
    {
     "data": {
      "text/plain": [
       "['AA', 'BB', 'CC']"
      ]
     },
     "execution_count": 105,
     "metadata": {},
     "output_type": "execute_result"
    }
   ],
   "source": [
    "c2[3][1]"
   ]
  },
  {
   "cell_type": "code",
   "execution_count": 107,
   "id": "438d0638-988c-43d1-90ca-7653eade3f91",
   "metadata": {},
   "outputs": [
    {
     "data": {
      "text/plain": [
       "'BB'"
      ]
     },
     "execution_count": 107,
     "metadata": {},
     "output_type": "execute_result"
    }
   ],
   "source": [
    "c2[3][1][1]"
   ]
  },
  {
   "cell_type": "markdown",
   "id": "d40a49df-a5db-43aa-97ea-ec1eaf339e90",
   "metadata": {},
   "source": [
    "Functions on list"
   ]
  },
  {
   "cell_type": "code",
   "execution_count": 109,
   "id": "eb53b7d4-bf77-48f3-ae12-7e9b5d06f9f9",
   "metadata": {},
   "outputs": [
    {
     "data": {
      "text/plain": [
       "[1, 200, 3, 4, 5]"
      ]
     },
     "execution_count": 109,
     "metadata": {},
     "output_type": "execute_result"
    }
   ],
   "source": [
    "l"
   ]
  },
  {
   "cell_type": "code",
   "execution_count": 111,
   "id": "8d6691ac-9db4-442d-b28f-ba4fe772d54a",
   "metadata": {},
   "outputs": [],
   "source": [
    "l.append(60)"
   ]
  },
  {
   "cell_type": "code",
   "execution_count": 113,
   "id": "56c9868c-4e4c-4eef-b015-a4135f9bf033",
   "metadata": {},
   "outputs": [
    {
     "data": {
      "text/plain": [
       "[1, 200, 3, 4, 5, 60]"
      ]
     },
     "execution_count": 113,
     "metadata": {},
     "output_type": "execute_result"
    }
   ],
   "source": [
    "l"
   ]
  },
  {
   "cell_type": "code",
   "execution_count": 115,
   "id": "f3015399-1057-424e-a70f-d21cdb61d3f4",
   "metadata": {},
   "outputs": [],
   "source": [
    "l.extend([1000,2000,3000])"
   ]
  },
  {
   "cell_type": "code",
   "execution_count": 118,
   "id": "0060db96-1b07-46fa-92b8-9dacb1929051",
   "metadata": {},
   "outputs": [
    {
     "data": {
      "text/plain": [
       "[1, 200, 3, 4, 5, 60, 1000, 2000, 3000]"
      ]
     },
     "execution_count": 118,
     "metadata": {},
     "output_type": "execute_result"
    }
   ],
   "source": [
    "l"
   ]
  },
  {
   "cell_type": "code",
   "execution_count": 123,
   "id": "e2417194-9378-4498-89fb-ef314799e2c7",
   "metadata": {},
   "outputs": [],
   "source": [
    "l.append([1000,2000,3000])"
   ]
  },
  {
   "cell_type": "code",
   "execution_count": 126,
   "id": "60eda76b-45e7-45ba-a752-6b594d9ca9b5",
   "metadata": {},
   "outputs": [
    {
     "data": {
      "text/plain": [
       "[1, 200, 3, 4, 5, 60, 1000, 2000, 3000, [1000, 2000, 3000], [1000, 2000, 3000]]"
      ]
     },
     "execution_count": 126,
     "metadata": {},
     "output_type": "execute_result"
    }
   ],
   "source": [
    "l"
   ]
  },
  {
   "cell_type": "markdown",
   "id": "7e9a5486-b92c-4df2-9e74-d1f79e125385",
   "metadata": {},
   "source": [
    "# Diff. b/w append & extend"
   ]
  },
  {
   "cell_type": "code",
   "execution_count": 128,
   "id": "204328f9-7c1a-4669-aaa1-4520062abf1b",
   "metadata": {},
   "outputs": [],
   "source": [
    "f = [1,2,3]"
   ]
  },
  {
   "cell_type": "code",
   "execution_count": 131,
   "id": "7a09e186-af26-47c2-9a2d-6b5201070889",
   "metadata": {},
   "outputs": [],
   "source": [
    "f.append([10,20])"
   ]
  },
  {
   "cell_type": "code",
   "execution_count": 133,
   "id": "3d3176a2-254c-4ce3-a93b-48a8104c3c10",
   "metadata": {},
   "outputs": [
    {
     "data": {
      "text/plain": [
       "[1, 2, 3, [10, 20]]"
      ]
     },
     "execution_count": 133,
     "metadata": {},
     "output_type": "execute_result"
    }
   ],
   "source": [
    "f"
   ]
  },
  {
   "cell_type": "code",
   "execution_count": 135,
   "id": "17b3b451-4e94-46f4-8188-4600451fd41a",
   "metadata": {},
   "outputs": [],
   "source": [
    "f.extend([10,20])"
   ]
  },
  {
   "cell_type": "code",
   "execution_count": 137,
   "id": "a12dd3f5-bb7c-4f26-b35d-bb34beee327c",
   "metadata": {},
   "outputs": [
    {
     "data": {
      "text/plain": [
       "[1, 2, 3, [10, 20], 10, 20]"
      ]
     },
     "execution_count": 137,
     "metadata": {},
     "output_type": "execute_result"
    }
   ],
   "source": [
    "f"
   ]
  },
  {
   "cell_type": "markdown",
   "id": "f3bb0e21-3621-4d67-9578-e6fcc29df6d8",
   "metadata": {},
   "source": [
    "# try to add data in previous list "
   ]
  }
 ],
 "metadata": {
  "kernelspec": {
   "display_name": "Python 3 (ipykernel)",
   "language": "python",
   "name": "python3"
  },
  "language_info": {
   "codemirror_mode": {
    "name": "ipython",
    "version": 3
   },
   "file_extension": ".py",
   "mimetype": "text/x-python",
   "name": "python",
   "nbconvert_exporter": "python",
   "pygments_lexer": "ipython3",
   "version": "3.12.7"
  }
 },
 "nbformat": 4,
 "nbformat_minor": 5
}
